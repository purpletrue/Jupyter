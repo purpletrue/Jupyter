{
 "cells": [
  {
   "cell_type": "markdown",
   "id": "8b563b12",
   "metadata": {},
   "source": [
    "# 함수 정보 출력하기"
   ]
  },
  {
   "cell_type": "code",
   "execution_count": 7,
   "id": "b607e44d",
   "metadata": {},
   "outputs": [],
   "source": [
    "import cv2\n",
    "import numpy as np  # 별칭 AS np 로 사용 ( Oracle / Python Turtle 비슷합니다... )\n",
    "from PIL import ImageFont, ImageDraw, Image\n",
    "\n",
    "img = np.full((1024, 1024, 3), 255, dtype=np.uint8) # 바탕화면 255 흰색\n",
    "#draw = ImageDraw.Draw(img)"
   ]
  },
  {
   "cell_type": "code",
   "execution_count": 8,
   "id": "6bb5badc",
   "metadata": {},
   "outputs": [],
   "source": [
    "np.full?"
   ]
  },
  {
   "cell_type": "code",
   "execution_count": 9,
   "id": "44afa521",
   "metadata": {},
   "outputs": [],
   "source": [
    "ImageDraw.Draw?"
   ]
  },
  {
   "cell_type": "code",
   "execution_count": 10,
   "id": "962c5b0b",
   "metadata": {},
   "outputs": [],
   "source": [
    "img?"
   ]
  },
  {
   "cell_type": "code",
   "execution_count": null,
   "id": "b249686b",
   "metadata": {},
   "outputs": [],
   "source": []
  },
  {
   "cell_type": "markdown",
   "id": "172420cc",
   "metadata": {},
   "source": [
    "# MarkDown 실습"
   ]
  },
  {
   "cell_type": "markdown",
   "id": "f27bcf1b",
   "metadata": {},
   "source": [
    "\n",
    "\n",
    "이것이 단락\n",
    "\n",
    "- ABC\n",
    "\n",
    "Table\n",
    "\n",
    "Test | Version \n",
    "--------|---------------\n",
    "git     |  day commit \n",
    "gitHub  |  Repository"
   ]
  },
  {
   "cell_type": "markdown",
   "id": "f4ca5033",
   "metadata": {},
   "source": [
    "# 외부명령 사용하기 ! 명령"
   ]
  },
  {
   "cell_type": "code",
   "execution_count": null,
   "id": "3270c4e7",
   "metadata": {},
   "outputs": [],
   "source": [
    "!pip list"
   ]
  },
  {
   "cell_type": "code",
   "execution_count": null,
   "id": "95515115",
   "metadata": {},
   "outputs": [],
   "source": []
  },
  {
   "cell_type": "code",
   "execution_count": null,
   "id": "a47d6e27",
   "metadata": {},
   "outputs": [],
   "source": []
  },
  {
   "cell_type": "code",
   "execution_count": null,
   "id": "882d1ab1",
   "metadata": {},
   "outputs": [],
   "source": []
  },
  {
   "cell_type": "code",
   "execution_count": null,
   "id": "628003f8",
   "metadata": {},
   "outputs": [],
   "source": []
  },
  {
   "cell_type": "code",
   "execution_count": null,
   "id": "f3d191cd",
   "metadata": {},
   "outputs": [],
   "source": []
  }
 ],
 "metadata": {
  "kernelspec": {
   "display_name": "Python 3 (ipykernel)",
   "language": "python",
   "name": "python3"
  },
  "language_info": {
   "codemirror_mode": {
    "name": "ipython",
    "version": 3
   },
   "file_extension": ".py",
   "mimetype": "text/x-python",
   "name": "python",
   "nbconvert_exporter": "python",
   "pygments_lexer": "ipython3",
   "version": "3.10.9"
  }
 },
 "nbformat": 4,
 "nbformat_minor": 5
}
